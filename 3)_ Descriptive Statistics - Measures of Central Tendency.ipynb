{
 "cells": [
  {
   "cell_type": "code",
   "execution_count": 3,
   "id": "b8e7c1d8-8c92-4553-87ee-25d866d0ba2a",
   "metadata": {},
   "outputs": [],
   "source": [
    "import pandas as pd\n",
    "data = pd.read_csv(r'C:\\Users\\LOQ\\Downloads\\archive\\iris.data.csv', header=None)\n",
    "data.columns = ['sepal_length', 'sepal_width', 'petal_length', 'petal_width', 'species']\n"
   ]
  },
  {
   "cell_type": "code",
   "execution_count": 4,
   "id": "1b6cfd4c-304e-437e-844d-9b955471c2b1",
   "metadata": {},
   "outputs": [
    {
     "name": "stdout",
     "output_type": "stream",
     "text": [
      "                sepal_length                            sepal_width         \\\n",
      "                        mean median  min  max       std        mean median   \n",
      "species                                                                      \n",
      "Iris-setosa            5.006    5.0  4.3  5.8  0.352490       3.418    3.4   \n",
      "Iris-versicolor        5.936    5.9  4.9  7.0  0.516171       2.770    2.8   \n",
      "Iris-virginica         6.588    6.5  4.9  7.9  0.635880       2.974    3.0   \n",
      "\n",
      "                                    petal_length                             \\\n",
      "                 min  max       std         mean median  min  max       std   \n",
      "species                                                                       \n",
      "Iris-setosa      2.3  4.4  0.381024        1.464   1.50  1.0  1.9  0.173511   \n",
      "Iris-versicolor  2.0  3.4  0.313798        4.260   4.35  3.0  5.1  0.469911   \n",
      "Iris-virginica   2.2  3.8  0.322497        5.552   5.55  4.5  6.9  0.551895   \n",
      "\n",
      "                petal_width                             \n",
      "                       mean median  min  max       std  \n",
      "species                                                 \n",
      "Iris-setosa           0.244    0.2  0.1  0.6  0.107210  \n",
      "Iris-versicolor       1.326    1.3  1.0  1.8  0.197753  \n",
      "Iris-virginica        2.026    2.0  1.4  2.5  0.274650  \n"
     ]
    }
   ],
   "source": [
    "# Group by species and calculate descriptive statistics\n",
    "grouped_stats = data.groupby('species').agg(['mean', 'median', 'min', 'max', 'std'])\n",
    "\n",
    "# Show result\n",
    "print(grouped_stats)\n"
   ]
  },
  {
   "cell_type": "code",
   "execution_count": 5,
   "id": "60bff6bd-8d8d-4b57-8991-140e64a98603",
   "metadata": {},
   "outputs": [
    {
     "name": "stdout",
     "output_type": "stream",
     "text": [
      "Species as numbers: [0, 0, 0, 0, 0, 0, 0, 0, 0, 0]\n"
     ]
    }
   ],
   "source": [
    "# Convert species to numbers\n",
    "species_numeric = data['species'].map({\n",
    "    'Iris-setosa': 0,\n",
    "    'Iris-versicolor': 1,\n",
    "    'Iris-virginica': 2\n",
    "}).tolist()\n",
    "\n",
    "# Display the numeric list\n",
    "print(\"Species as numbers:\", species_numeric[:10])  # Show first 10\n"
   ]
  },
  {
   "cell_type": "code",
   "execution_count": 6,
   "id": "86a1c504-67eb-4587-b2f7-6c6ed34f1a55",
   "metadata": {},
   "outputs": [
    {
     "name": "stdout",
     "output_type": "stream",
     "text": [
      "\n",
      "Stats for Iris-setosa:\n",
      "       sepal_length  sepal_width  petal_length  petal_width\n",
      "count      50.00000    50.000000     50.000000     50.00000\n",
      "mean        5.00600     3.418000      1.464000      0.24400\n",
      "std         0.35249     0.381024      0.173511      0.10721\n",
      "min         4.30000     2.300000      1.000000      0.10000\n",
      "25%         4.80000     3.125000      1.400000      0.20000\n",
      "50%         5.00000     3.400000      1.500000      0.20000\n",
      "75%         5.20000     3.675000      1.575000      0.30000\n",
      "max         5.80000     4.400000      1.900000      0.60000\n",
      "\n",
      "Stats for Iris-versicolor:\n",
      "       sepal_length  sepal_width  petal_length  petal_width\n",
      "count     50.000000    50.000000     50.000000    50.000000\n",
      "mean       5.936000     2.770000      4.260000     1.326000\n",
      "std        0.516171     0.313798      0.469911     0.197753\n",
      "min        4.900000     2.000000      3.000000     1.000000\n",
      "25%        5.600000     2.525000      4.000000     1.200000\n",
      "50%        5.900000     2.800000      4.350000     1.300000\n",
      "75%        6.300000     3.000000      4.600000     1.500000\n",
      "max        7.000000     3.400000      5.100000     1.800000\n",
      "\n",
      "Stats for Iris-virginica:\n",
      "       sepal_length  sepal_width  petal_length  petal_width\n",
      "count      50.00000    50.000000     50.000000     50.00000\n",
      "mean        6.58800     2.974000      5.552000      2.02600\n",
      "std         0.63588     0.322497      0.551895      0.27465\n",
      "min         4.90000     2.200000      4.500000      1.40000\n",
      "25%         6.22500     2.800000      5.100000      1.80000\n",
      "50%         6.50000     3.000000      5.550000      2.00000\n",
      "75%         6.90000     3.175000      5.875000      2.30000\n",
      "max         7.90000     3.800000      6.900000      2.50000\n"
     ]
    }
   ],
   "source": [
    "# Function to print basic stats for each species\n",
    "def show_stats(species_name):\n",
    "    subset = data[data['species'] == species_name]\n",
    "    print(f\"\\nStats for {species_name}:\")\n",
    "    print(subset.describe(percentiles=[0.25, 0.5, 0.75]))\n",
    "\n",
    "# Call for each species\n",
    "show_stats('Iris-setosa')\n",
    "show_stats('Iris-versicolor')\n",
    "show_stats('Iris-virginica')\n"
   ]
  },
  {
   "cell_type": "code",
   "execution_count": null,
   "id": "5f71fb9e-c0a8-42c1-a60f-55c02501cd16",
   "metadata": {},
   "outputs": [],
   "source": []
  }
 ],
 "metadata": {
  "kernelspec": {
   "display_name": "Python 3 (ipykernel)",
   "language": "python",
   "name": "python3"
  },
  "language_info": {
   "codemirror_mode": {
    "name": "ipython",
    "version": 3
   },
   "file_extension": ".py",
   "mimetype": "text/x-python",
   "name": "python",
   "nbconvert_exporter": "python",
   "pygments_lexer": "ipython3",
   "version": "3.13.2"
  }
 },
 "nbformat": 4,
 "nbformat_minor": 5
}
